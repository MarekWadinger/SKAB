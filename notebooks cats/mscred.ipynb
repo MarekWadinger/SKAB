{
    "cells": [
        {
            "cell_type": "markdown",
            "metadata": {},
            "source": [
                "# Pipeline for the anomaly detection on the SKAB using MSCRED"
            ]
        },
        {
            "cell_type": "markdown",
            "metadata": {},
            "source": [
                "Details regarding the SKAB one can find in the [SKAB repository](https://github.com/waico/SKAB)."
            ]
        },
        {
            "cell_type": "code",
            "execution_count": 10,
            "metadata": {},
            "outputs": [],
            "source": [
                "# libraries importing\n",
                "import sys\n",
                "import warnings\n",
                "\n",
                "import numpy as np\n",
                "import pandas as pd\n",
                "from sklearn.model_selection import train_test_split\n",
                "from sklearn.preprocessing import MinMaxScaler\n",
                "\n",
                "sys.path.append(\"..\")\n",
                "from core.MSCRED import MSCRED\n",
                "from core.metrics import chp_score\n",
                "from core.utils import plot_results\n",
                "\n",
                "sys.path.append(\"../../odmd-subid-cpd\")\n",
                "from functions.datasets import load_cats\n",
                "\n",
                "warnings.filterwarnings(\"ignore\", category=UserWarning)"
            ]
        },
        {
            "cell_type": "code",
            "execution_count": 11,
            "metadata": {},
            "outputs": [
                {
                    "name": "stdout",
                    "output_type": "stream",
                    "text": [
                        "The autoreload extension is already loaded. To reload it, use:\n",
                        "  %reload_ext autoreload\n"
                    ]
                }
            ],
            "source": [
                "%load_ext autoreload\n",
                "%autoreload 2"
            ]
        },
        {
            "cell_type": "markdown",
            "metadata": {},
            "source": [
                "## Data"
            ]
        },
        {
            "cell_type": "code",
            "execution_count": 12,
            "metadata": {},
            "outputs": [],
            "source": [
                "df = load_cats(\n",
                "    file_path=\"/Users/mw/pyprojects/odmd-subid-cpd/examples/data/cats/data.csv\",\n",
                "    resample_s=60,\n",
                ")\n",
                "df = df.rename(columns={\"y\": \"anomaly\"})\n",
                "X = df[\n",
                "    [\n",
                "        \"bed1\",\n",
                "        \"bed2\",\n",
                "        \"bfo1\",\n",
                "        \"bfo2\",\n",
                "        \"bso1\",\n",
                "        \"bso2\",\n",
                "        \"bso3\",\n",
                "        \"ced1\",\n",
                "        \"cfo1\",\n",
                "        \"cso1\",\n",
                "        \"aimp\",\n",
                "        \"amud\",\n",
                "        \"adbr\",\n",
                "        \"adfl\",\n",
                "    ]\n",
                "]\n",
                "Y = df[[\"anomaly\", \"category\"]]\n",
                "Xy_traintest_list = [\n",
                "    train_test_split(\n",
                "        X,\n",
                "        Y,\n",
                "        train_size=int(1e6 / 60),\n",
                "        shuffle=False,\n",
                "        random_state=0,\n",
                "    )\n",
                "]"
            ]
        },
        {
            "cell_type": "markdown",
            "metadata": {},
            "source": [
                "## Method"
            ]
        },
        {
            "cell_type": "markdown",
            "metadata": {
                "tags": []
            },
            "source": [
                "### Method initialization"
            ]
        },
        {
            "cell_type": "code",
            "execution_count": 13,
            "metadata": {},
            "outputs": [],
            "source": [
                "# hyperparameters selection\n",
                "step_max = 10  # maximum step in ConvLSTM\n",
                "gap_time = 1  # gap time between each segment\n",
                "win_size = [5, 10, 30]  # window size of each segment\n",
                "scale_n = len(win_size)\n",
                "Q = 0.99  # quantile for upper control limit (UCL) selection"
            ]
        },
        {
            "cell_type": "code",
            "execution_count": 14,
            "metadata": {},
            "outputs": [],
            "source": [
                "def create_dataset(df, win_size, gap_time, step_max):\n",
                "    data = np.array(df, dtype=np.float64)\n",
                "    sensor_n = data.shape[1]\n",
                "    data_all = []\n",
                "    scale_n = len(win_size)\n",
                "    # min-max normalization\n",
                "    data = MinMaxScaler().fit_transform(data).T\n",
                "\n",
                "    for win in win_size:\n",
                "        matrix_all = []\n",
                "        for t in range(win_size[-1], len(df), gap_time):\n",
                "            matrix_t = np.zeros((sensor_n, sensor_n))\n",
                "            for i in range(sensor_n):\n",
                "                for j in range(i, sensor_n):\n",
                "                    matrix_t[i][j] = np.inner(\n",
                "                        data[i, t - win : t], data[j, t - win : t]\n",
                "                    ) / (win)  # rescale by win\n",
                "                    matrix_t[j][i] = matrix_t[i][j]\n",
                "            matrix_all.append(matrix_t)\n",
                "        data_all.append(matrix_all)\n",
                "\n",
                "    data_all = np.transpose(data_all, (1, 2, 3, 0))\n",
                "\n",
                "    dataset = data_all[:step_max]\n",
                "    for i in range(step_max + 1, len(data_all) + 1):\n",
                "        dataset = np.append(dataset, data_all[i - step_max : i], axis=0)\n",
                "\n",
                "    return dataset.reshape([-1, step_max, sensor_n, sensor_n, scale_n])"
            ]
        },
        {
            "cell_type": "markdown",
            "metadata": {},
            "source": [
                "### Method fitting and applying"
            ]
        },
        {
            "cell_type": "code",
            "execution_count": 15,
            "metadata": {
                "scrolled": true
            },
            "outputs": [
                {
                    "name": "stdout",
                    "output_type": "stream",
                    "text": [
                        "----------------------dataset 1--------------------------------\n",
                        "Epoch 1/25\n",
                        "\u001b[1m84/84\u001b[0m \u001b[32m━━━━━━━━━━━━━━━━━━━━\u001b[0m\u001b[37m\u001b[0m \u001b[1m228s\u001b[0m 3s/step - loss: 0.0112 - learning_rate: 0.0010\n",
                        "Epoch 2/25\n",
                        "\u001b[1m84/84\u001b[0m \u001b[32m━━━━━━━━━━━━━━━━━━━━\u001b[0m\u001b[37m\u001b[0m \u001b[1m219s\u001b[0m 3s/step - loss: 9.7483e-04 - learning_rate: 0.0010\n",
                        "Epoch 3/25\n",
                        "\u001b[1m84/84\u001b[0m \u001b[32m━━━━━━━━━━━━━━━━━━━━\u001b[0m\u001b[37m\u001b[0m \u001b[1m220s\u001b[0m 3s/step - loss: 4.3236e-04 - learning_rate: 0.0010\n",
                        "Epoch 4/25\n",
                        "\u001b[1m84/84\u001b[0m \u001b[32m━━━━━━━━━━━━━━━━━━━━\u001b[0m\u001b[37m\u001b[0m \u001b[1m221s\u001b[0m 3s/step - loss: 3.0828e-04 - learning_rate: 0.0010\n",
                        "Epoch 5/25\n",
                        "\u001b[1m84/84\u001b[0m \u001b[32m━━━━━━━━━━━━━━━━━━━━\u001b[0m\u001b[37m\u001b[0m \u001b[1m220s\u001b[0m 3s/step - loss: 2.0715e-04 - learning_rate: 0.0010\n",
                        "Epoch 6/25\n",
                        "\u001b[1m84/84\u001b[0m \u001b[32m━━━━━━━━━━━━━━━━━━━━\u001b[0m\u001b[37m\u001b[0m \u001b[1m226s\u001b[0m 3s/step - loss: 1.6415e-04 - learning_rate: 0.0010\n",
                        "Epoch 7/25\n",
                        "\u001b[1m84/84\u001b[0m \u001b[32m━━━━━━━━━━━━━━━━━━━━\u001b[0m\u001b[37m\u001b[0m \u001b[1m226s\u001b[0m 3s/step - loss: 1.2731e-04 - learning_rate: 0.0010\n",
                        "Epoch 8/25\n",
                        "\u001b[1m84/84\u001b[0m \u001b[32m━━━━━━━━━━━━━━━━━━━━\u001b[0m\u001b[37m\u001b[0m \u001b[1m225s\u001b[0m 3s/step - loss: 1.1186e-04 - learning_rate: 0.0010\n",
                        "Epoch 9/25\n",
                        "\u001b[1m84/84\u001b[0m \u001b[32m━━━━━━━━━━━━━━━━━━━━\u001b[0m\u001b[37m\u001b[0m \u001b[1m222s\u001b[0m 3s/step - loss: 1.0250e-04 - learning_rate: 0.0010\n",
                        "Epoch 10/25\n",
                        "\u001b[1m84/84\u001b[0m \u001b[32m━━━━━━━━━━━━━━━━━━━━\u001b[0m\u001b[37m\u001b[0m \u001b[1m219s\u001b[0m 3s/step - loss: 1.0911e-04 - learning_rate: 0.0010\n",
                        "Epoch 11/25\n",
                        "\u001b[1m84/84\u001b[0m \u001b[32m━━━━━━━━━━━━━━━━━━━━\u001b[0m\u001b[37m\u001b[0m \u001b[1m220s\u001b[0m 3s/step - loss: 7.2485e-05 - learning_rate: 0.0010\n",
                        "Epoch 12/25\n",
                        "\u001b[1m84/84\u001b[0m \u001b[32m━━━━━━━━━━━━━━━━━━━━\u001b[0m\u001b[37m\u001b[0m \u001b[1m0s\u001b[0m 3s/step - loss: 7.8904e-05\n",
                        "Epoch 12: ReduceLROnPlateau reducing learning rate to 0.000800000037997961.\n",
                        "\u001b[1m84/84\u001b[0m \u001b[32m━━━━━━━━━━━━━━━━━━━━\u001b[0m\u001b[37m\u001b[0m \u001b[1m218s\u001b[0m 3s/step - loss: 7.8817e-05 - learning_rate: 0.0010\n",
                        "Epoch 13/25\n",
                        "\u001b[1m84/84\u001b[0m \u001b[32m━━━━━━━━━━━━━━━━━━━━\u001b[0m\u001b[37m\u001b[0m \u001b[1m221s\u001b[0m 3s/step - loss: 7.9102e-05 - learning_rate: 8.0000e-04\n",
                        "Epoch 14/25\n",
                        "\u001b[1m84/84\u001b[0m \u001b[32m━━━━━━━━━━━━━━━━━━━━\u001b[0m\u001b[37m\u001b[0m \u001b[1m224s\u001b[0m 3s/step - loss: 4.3884e-05 - learning_rate: 8.0000e-04\n",
                        "Epoch 15/25\n",
                        "\u001b[1m84/84\u001b[0m \u001b[32m━━━━━━━━━━━━━━━━━━━━\u001b[0m\u001b[37m\u001b[0m \u001b[1m224s\u001b[0m 3s/step - loss: 4.5883e-05 - learning_rate: 8.0000e-04\n",
                        "Epoch 16/25\n",
                        "\u001b[1m84/84\u001b[0m \u001b[32m━━━━━━━━━━━━━━━━━━━━\u001b[0m\u001b[37m\u001b[0m \u001b[1m230s\u001b[0m 3s/step - loss: 4.0313e-05 - learning_rate: 8.0000e-04\n",
                        "Epoch 17/25\n",
                        "\u001b[1m84/84\u001b[0m \u001b[32m━━━━━━━━━━━━━━━━━━━━\u001b[0m\u001b[37m\u001b[0m \u001b[1m222s\u001b[0m 3s/step - loss: 4.9215e-05 - learning_rate: 8.0000e-04\n",
                        "Epoch 18/25\n",
                        "\u001b[1m84/84\u001b[0m \u001b[32m━━━━━━━━━━━━━━━━━━━━\u001b[0m\u001b[37m\u001b[0m \u001b[1m222s\u001b[0m 3s/step - loss: 3.8760e-05 - learning_rate: 8.0000e-04\n",
                        "Epoch 19/25\n",
                        "\u001b[1m84/84\u001b[0m \u001b[32m━━━━━━━━━━━━━━━━━━━━\u001b[0m\u001b[37m\u001b[0m \u001b[1m223s\u001b[0m 3s/step - loss: 3.7218e-05 - learning_rate: 8.0000e-04\n",
                        "Epoch 20/25\n",
                        "\u001b[1m84/84\u001b[0m \u001b[32m━━━━━━━━━━━━━━━━━━━━\u001b[0m\u001b[37m\u001b[0m \u001b[1m0s\u001b[0m 3s/step - loss: 4.5272e-05\n",
                        "Epoch 20: ReduceLROnPlateau reducing learning rate to 0.0006400000303983689.\n",
                        "\u001b[1m84/84\u001b[0m \u001b[32m━━━━━━━━━━━━━━━━━━━━\u001b[0m\u001b[37m\u001b[0m \u001b[1m221s\u001b[0m 3s/step - loss: 4.5259e-05 - learning_rate: 8.0000e-04\n",
                        "Epoch 21/25\n",
                        "\u001b[1m84/84\u001b[0m \u001b[32m━━━━━━━━━━━━━━━━━━━━\u001b[0m\u001b[37m\u001b[0m \u001b[1m222s\u001b[0m 3s/step - loss: 2.8783e-05 - learning_rate: 6.4000e-04\n",
                        "Epoch 22/25\n",
                        "\u001b[1m84/84\u001b[0m \u001b[32m━━━━━━━━━━━━━━━━━━━━\u001b[0m\u001b[37m\u001b[0m \u001b[1m226s\u001b[0m 3s/step - loss: 2.4099e-05 - learning_rate: 6.4000e-04\n",
                        "Epoch 23/25\n",
                        "\u001b[1m84/84\u001b[0m \u001b[32m━━━━━━━━━━━━━━━━━━━━\u001b[0m\u001b[37m\u001b[0m \u001b[1m221s\u001b[0m 3s/step - loss: 2.3101e-05 - learning_rate: 6.4000e-04\n",
                        "Epoch 24/25\n",
                        "\u001b[1m84/84\u001b[0m \u001b[32m━━━━━━━━━━━━━━━━━━━━\u001b[0m\u001b[37m\u001b[0m \u001b[1m224s\u001b[0m 3s/step - loss: 3.3834e-05 - learning_rate: 6.4000e-04\n",
                        "Epoch 25/25\n",
                        "\u001b[1m84/84\u001b[0m \u001b[32m━━━━━━━━━━━━━━━━━━━━\u001b[0m\u001b[37m\u001b[0m \u001b[1m222s\u001b[0m 3s/step - loss: 2.6320e-05 - learning_rate: 6.4000e-04\n",
                        "\u001b[1m2081/2081\u001b[0m \u001b[32m━━━━━━━━━━━━━━━━━━━━\u001b[0m\u001b[37m\u001b[0m \u001b[1m474s\u001b[0m 227ms/step\n"
                    ]
                }
            ],
            "source": [
                "# training\n",
                "mses = []\n",
                "x = 0\n",
                "for X_train, X_test, y_train, y_test in Xy_traintest_list:\n",
                "    x += 1\n",
                "    print(f\"----------------------dataset {x}--------------------------------\")\n",
                "    sensor_n = X_train.shape[1]\n",
                "    X_train_ = create_dataset(X_train, win_size, gap_time, step_max)\n",
                "    X_test_ = create_dataset(X_test, win_size, gap_time, step_max)\n",
                "\n",
                "    PARAMS = [sensor_n, scale_n, step_max]\n",
                "\n",
                "    # model defining and fitting\n",
                "    model = MSCRED(PARAMS)\n",
                "    model.fit(X_train_, X_train_[:, -1])\n",
                "\n",
                "    # results predicting\n",
                "    X_pred = model.predict(X_test_) * -1\n",
                "    resid_mat = X_test_[:, -1] - X_pred\n",
                "    mse = np.mean(np.square(resid_mat), axis=(1, 2))\n",
                "    t = X_test.index[win_size[-1] :: gap_time][step_max - 1 :]\n",
                "    mse_df = pd.DataFrame(mse, index=t, columns=[f\"win_{i}\" for i in win_size])\n",
                "    mses.append(mse_df)"
            ]
        },
        {
            "cell_type": "code",
            "execution_count": 16,
            "metadata": {},
            "outputs": [],
            "source": [
                "# inference\n",
                "predicted_outlier, predicted_cp = [], []\n",
                "true_outlier, true_cp = [], []\n",
                "for (X_train, X_test, y_train, y_test), mse_df in zip(Xy_traintest_list, mses):\n",
                "    t = X_test.index[win_size[-1] :: gap_time][step_max - 1 :]\n",
                "    UCL = mse_df.quantile(Q) * 2 / 3\n",
                "    prediction = (\n",
                "        pd.DataFrame((mse_df > UCL), t).fillna(0).any(axis=1).astype(int)\n",
                "    )\n",
                "\n",
                "    # predicted outliers saving\n",
                "    predicted_outlier.append(prediction)\n",
                "    # predicted CPs saving\n",
                "    prediction_cp = abs(prediction.diff())\n",
                "    prediction_cp[0] = prediction[0]\n",
                "    predicted_cp.append(prediction_cp)\n",
                "\n",
                "    true_outlier.append(y_test[\"anomaly\"][-len(X_test_) - 1 : -1])\n",
                "    true_cp.append(\n",
                "        y_test[\"anomaly\"].diff().abs().fillna(0.0)[-len(X_test_) - 1 : -1]\n",
                "    )\n",
                "\n",
                "    # # plot\n",
                "    # fig, axes = plt.subplots(1, len(win_size), figsize=(24, 3))\n",
                "    # fig.suptitle(f\"dataset №{x}\")\n",
                "    # for i, col in enumerate(mse_df.columns):\n",
                "    #     ax = axes.flatten()[int(i)]\n",
                "    #     ax.hlines(UCL[col], t[0], t[-1], \"r\")\n",
                "    #     mse_df[col].plot(ax=ax)\n",
                "    #     ax.legend()"
            ]
        },
        {
            "cell_type": "markdown",
            "metadata": {},
            "source": [
                "### Results visualization"
            ]
        },
        {
            "cell_type": "code",
            "execution_count": 17,
            "metadata": {},
            "outputs": [
                {
                    "data": {
                        "image/png": "[encoded data removed]",
                        "text/plain": [
                            "<Figure size 1200x600 with 2 Axes>"
                        ]
                    },
                    "metadata": {},
                    "output_type": "display_data"
                }
            ],
            "source": [
                "# [donotremove]\n",
                "plot_results(\n",
                "    (true_outlier[0], predicted_outlier[0]),\n",
                "    (true_cp[0], predicted_cp[0]),\n",
                ")"
            ]
        },
        {
            "cell_type": "markdown",
            "metadata": {},
            "source": [
                "## Evaluation (metrics calculation)"
            ]
        },
        {
            "cell_type": "code",
            "execution_count": 18,
            "metadata": {},
            "outputs": [],
            "source": [
                "import pickle\n",
                "\n",
                "pickle.dump(\n",
                "    predicted_outlier,\n",
                "    open(f\"../results/results-cats-{model.__class__.__name__}.pkl\", \"wb\"),\n",
                ")"
            ]
        },
        {
            "cell_type": "markdown",
            "metadata": {},
            "source": [
                "### Binary classification (outlier detection) metrics"
            ]
        },
        {
            "cell_type": "code",
            "execution_count": 19,
            "metadata": {},
            "outputs": [
                {
                    "name": "stdout",
                    "output_type": "stream",
                    "text": [
                        "False Alarm Rate 32.98 %\n",
                        "Missing Alarm Rate 65.98 %\n",
                        "F1 metric 0.09\n"
                    ]
                }
            ],
            "source": [
                "# [donotremove]\n",
                "# binary classification metrics calculation\n",
                "binary = chp_score(true_outlier, predicted_outlier, metric=\"binary\")"
            ]
        },
        {
            "cell_type": "markdown",
            "metadata": {},
            "source": [
                "### Changepoint detection metrics"
            ]
        },
        {
            "cell_type": "code",
            "execution_count": 20,
            "metadata": {},
            "outputs": [
                {
                    "name": "stdout",
                    "output_type": "stream",
                    "text": [
                        "Amount of true anomalies 396\n",
                        "A number of missed CPs = 130\n",
                        "A number of FPs = 1659\n",
                        "Average time 0 days 00:19:43.082706766\n"
                    ]
                }
            ],
            "source": [
                "# [donotremove]\n",
                "# average detection delay metric calculation\n",
                "add = chp_score(\n",
                "    true_cp,\n",
                "    predicted_cp,\n",
                "    metric=\"average_time\",\n",
                "    window_width=\"18000s\",\n",
                "    anomaly_window_destination=\"righter\",\n",
                ")"
            ]
        },
        {
            "cell_type": "code",
            "execution_count": 21,
            "metadata": {},
            "outputs": [
                {
                    "name": "stdout",
                    "output_type": "stream",
                    "text": [
                        "Standard  -  37.19\n",
                        "LowFP  -  13.46\n",
                        "LowFN  -  47.18\n"
                    ]
                }
            ],
            "source": [
                "# [donotremove]\n",
                "# nab metric calculation\n",
                "nab = chp_score(\n",
                "    true_cp,\n",
                "    predicted_cp,\n",
                "    metric=\"nab\",\n",
                "    window_width=\"18000s\",\n",
                "    anomaly_window_destination=\"righter\",\n",
                ")"
            ]
        }
    ],
    "metadata": {
        "kernelspec": {
            "display_name": ".venv",
            "language": "python",
            "name": "python3"
        },
        "language_info": {
            "codemirror_mode": {
                "name": "ipython",
                "version": 3
            },
            "file_extension": ".py",
            "mimetype": "text/x-python",
            "name": "python",
            "nbconvert_exporter": "python",
            "pygments_lexer": "ipython3",
            "version": "3.10.14"
        }
    },
    "nbformat": 4,
    "nbformat_minor": 4
}
